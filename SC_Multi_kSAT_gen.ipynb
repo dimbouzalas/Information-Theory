import random
from ipywidgets import FloatText, IntText, Text, Button, VBox, HBox, Label, Output
from IPython.display import display, FileLink, clear_output


def generate_spatially_coupled_clauses(L, N_per_block, w, densities):

    total_vars = L * N_per_block
    all_clauses = []

    for k, rk in densities.items():
        M = int(round(rk * total_vars))
        for _ in range(M):
            
            start_block = random.randint(0, L - 1)
            window_blocks = [(start_block + offset) % L for offset in range(w)]

            
            vars_pool = []
            for b in window_blocks:
                start = b * N_per_block + 1
                end = (b + 1) * N_per_block + 1
                vars_pool.extend(range(start, end))

            
            chosen = random.sample(vars_pool, k)
            lits = [v if random.choice([True, False]) else -v for v in chosen]
            all_clauses.append(lits)

    return all_clauses


r2 = FloatText(1.0, description='r₂:')
r3 = FloatText(4.2, description='r₃:')
r4 = FloatText(8.0, description='r₄:')
r5 = FloatText(10.5, description='r₅:')
N = IntText(150, description='N (total vars):')
L = IntText(30, description='L (blocks):')
w = IntText(3, description='w (coupling width):')
out_fn = Text('mixed.cnf', description='Output fn:')
btn = Button(description='Generate CNF', button_style='success')
output_area = Output()


def on_click(b):
    output_area.clear_output()

    total_N = N.value
    L_blocks = L.value
    width = w.value
    N_per_block = total_N // L_blocks

    if total_N % L_blocks != 0:
        with output_area:
            print("Error: N must be divisible by L.")
        return

    
    densities = {
        2: r2.value,
        3: r3.value,
        4: r4.value,
        5: r5.value
    }

    all_clauses = generate_spatially_coupled_clauses(L_blocks, N_per_block, width, densities)

    
    with open(out_fn.value, 'w') as f:
        f.write(f"p cnf {total_N} {len(all_clauses)}\n")
        for clause in all_clauses:
            f.write(" ".join(str(lit) for lit in clause) + " 0\n")

    
    with output_area:
        display(Label(f"Wrote {len(all_clauses)} clauses → “{out_fn.value}”"))
        display(FileLink(out_fn.value))

btn.on_click(on_click)


ui = VBox([
    HBox([r2, r3, r4, r5]),
    HBox([N, L, w]),
    HBox([out_fn]),
    btn,
    output_area
])
display(ui)
